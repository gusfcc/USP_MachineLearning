{
  "nbformat": 4,
  "nbformat_minor": 0,
  "metadata": {
    "colab": {
      "name": "TrabML_Gustavo_Nayara.ipynb",
      "provenance": [],
      "collapsed_sections": [],
      "toc_visible": true
    },
    "kernelspec": {
      "name": "python3",
      "display_name": "Python 3"
    },
    "language_info": {
      "name": "python"
    }
  },
  "cells": [
    {
      "cell_type": "markdown",
      "source": [
        "#Análise de similaridade dos tuítes sobre a guerra na Ucrânia, de usuários relevantes"
      ],
      "metadata": {
        "id": "yal-2LFM8EAs"
      }
    },
    {
      "cell_type": "markdown",
      "source": [
        "## Introdução\n",
        "\n",
        "A guerra na Ucrânia teve início em 24 de fevereiro de 2022 e se tornou um assunto comentado mundialmente, principalmente nas redes sociais, como o Twitter. Este conflito, ainda em andamento, envolve diretamente a grande potência mundial Russa e a Ucrânia, e indiretamente diversos países e potências do resto do globo, em questões políticas, geológicas e ideológicas.\n",
        "\n",
        "\n"
      ],
      "metadata": {
        "id": "6_8i9Osq1lm0"
      }
    },
    {
      "cell_type": "markdown",
      "source": [
        "##Objetivo\n",
        "Este trabalho tem como objetivo analisar a semelhança entre tuítes escritos sobre a guerra na Ucrânia, utilizando da métrica TF-IDF para a seleção de atributos. Serão analisados os tuítes postados por usuários com mais de 5 000 000 de seguidores no Twitter, durante um período de mais de 90 dias. Os datasets utilizados foram retirados do site Kaggle (https://www.kaggle.com/datasets/bwandowando/ukraine-russian-crisis-twitter-dataset-1-2-m-rows). O formato deste trabalho será de aplicação, contendo as fases de pré-processamento, mineração e pós-processamento."
      ],
      "metadata": {
        "id": "z2Vakq514JSN"
      }
    },
    {
      "cell_type": "markdown",
      "source": [
        "##DataSet Original\n",
        "O conjunto de dataset utilizado, retirado do site Kaggle, possui, até o momento,  34.21M tuítes, de diferentes usuários, postados em relação a guerra. Os parâmetros de busca destes tuítes foram as hashtags utilizadas junto a postagem. Para cada dia desde 27/02/2022, um novo arquivo com os tuítes relacionados daquele dia é postado no site (há algumas exceções).\n",
        "\n",
        "\n",
        "\n",
        "Os datasets contém 17 colunas, com informações sobre o perfil do usuário e o tuíte postado. O enfoque principal é a coluna “text” que contém o texto do tuíte. Além disso, vale ressaltar a coluna “username”, “followers” e “language”, que contém as informações do nome do usuário, número de seguidores e idioma do tuíte (informações relevantes para o pré-processamento).\n"
      ],
      "metadata": {
        "id": "TD9fz_cw3yw2"
      }
    },
    {
      "cell_type": "markdown",
      "source": [
        "##Preparação"
      ],
      "metadata": {
        "id": "Mdj07aqy3FM6"
      }
    },
    {
      "cell_type": "markdown",
      "source": [
        "###Conectar-se ao Google Drive"
      ],
      "metadata": {
        "id": "tZXQWhUb8cNx"
      }
    },
    {
      "cell_type": "code",
      "source": [
        "from google.colab import drive\n",
        "drive.mount('/content/drive')"
      ],
      "metadata": {
        "id": "L1CoDUnUarfC",
        "colab": {
          "base_uri": "https://localhost:8080/"
        },
        "outputId": "54183ebb-fad3-4bce-90ea-04556dde1722"
      },
      "execution_count": 1,
      "outputs": [
        {
          "output_type": "stream",
          "name": "stdout",
          "text": [
            "Mounted at /content/drive\n"
          ]
        }
      ]
    },
    {
      "cell_type": "markdown",
      "source": [
        "###Imports\n"
      ],
      "metadata": {
        "id": "ywYZIZrFokOW"
      }
    },
    {
      "cell_type": "markdown",
      "source": [
        "A aplicação foi realizada em Python, com o objetivo de ter acesso a bibliotecas de processamento de linguagem natural (NLP) e aprendizado de máquina. Com isso, foram utilizadas bibliotecas para dar suporte às operações, e para implementar/aplicar os algoritmos propostos. \n",
        "\n",
        "Dentre elas, podemos citar: \n",
        "* Numpy, uma biblioteca de matemática computacional, focada em operações matemáticas e estruturas de dados otimizadas;\n",
        "* Pandas, com a implementação do DataFrame, um tipo de estrutura de dados em formato de tabela, utilizado para a manipulação de dados para inteligência artificial;\n",
        "* NLTK, com métodos e funções de processamento de linguagem natural, utilizado para aplicação do algoritmo de stemmização, e da lista de stop words; \n",
        "* SciKit Learn, uma biblioteca completa de aprendizado de máquina, com algoritmos de classificação, regressão, clusterização, etc, e métodos para a criação de atributos, como o TF-IDF; \n",
        "* SciPy, uma biblioteca open-source de softwares para matemática, ciência engenharia, que contém métodos como linkage e dendrogram para a implementação de clusters hierárquicos; \n",
        "* e Mlxtend (machine learning extensions), uma biblioteca especializada de aprendizado de máquina, com ferramentas úteis para as atividades diárias de ciência de dados, sendo utilizada para a aplicação do algoritmo de regras de associação."
      ],
      "metadata": {
        "id": "KchzC0LEbP_h"
      }
    },
    {
      "cell_type": "code",
      "execution_count": 2,
      "metadata": {
        "id": "EiVNrlotoaa_",
        "colab": {
          "base_uri": "https://localhost:8080/"
        },
        "outputId": "1272f037-397e-4f91-d383-3eb76afcbd5c"
      },
      "outputs": [
        {
          "output_type": "stream",
          "name": "stderr",
          "text": [
            "[nltk_data] Downloading package punkt to /root/nltk_data...\n",
            "[nltk_data]   Unzipping tokenizers/punkt.zip.\n",
            "[nltk_data] Downloading package stopwords to /root/nltk_data...\n",
            "[nltk_data]   Unzipping corpora/stopwords.zip.\n",
            "[nltk_data] Downloading package wordnet to /root/nltk_data...\n",
            "[nltk_data]   Unzipping corpora/wordnet.zip.\n",
            "[nltk_data] Downloading package omw-1.4 to /root/nltk_data...\n",
            "[nltk_data]   Unzipping corpora/omw-1.4.zip.\n"
          ]
        }
      ],
      "source": [
        "import os\n",
        "import sys\n",
        "import numpy as np\n",
        "import pandas as pd\n",
        "import nltk\n",
        "import re\n",
        "import matplotlib as mpl\n",
        "import matplotlib.pyplot as plt\n",
        "nltk.download('punkt')\n",
        "nltk.download('stopwords')\n",
        "nltk.download('wordnet')\n",
        "nltk.download('omw-1.4')\n",
        "from nltk.stem import WordNetLemmatizer\n",
        "from nltk.corpus import stopwords\n",
        "from nltk.tokenize import word_tokenize\n",
        "from sklearn.feature_extraction.text import TfidfVectorizer\n",
        "from sklearn.cluster import AgglomerativeClustering\n",
        "from scipy.cluster.hierarchy import dendrogram, linkage\n",
        "from mlxtend.frequent_patterns import apriori, association_rules"
      ]
    },
    {
      "cell_type": "markdown",
      "source": [
        "##Pré-Processamento\n",
        "\n"
      ],
      "metadata": {
        "id": "9ON9ZKPY8mW-"
      }
    },
    {
      "cell_type": "markdown",
      "source": [
        "###Criação e Leitura\n"
      ],
      "metadata": {
        "id": "rdQnlHSw9mGl"
      }
    },
    {
      "cell_type": "markdown",
      "source": [
        "\n",
        "Primeiramente, os datasets foram filtrados baseando-se nos valores das colunas “language” e “followers”: apenas os tuítes em idioma inglês (“eng”) cujo usuário possui o número de seguidores maior que 5 000 000 foram selecionados e separados em um único dataset.\n",
        "\n",
        "Abaixo, o trecho responsável pela criação do DataSet. Atualmente selecionado para ser armazenado em formato *.csv* na pasta */content/drive/MyDrive/Machine Learning/DataSets*, do Google Drive."
      ],
      "metadata": {
        "id": "ICK6_SjabYwL"
      }
    },
    {
      "cell_type": "code",
      "source": [
        "dir  = '/content/drive/MyDrive/Machine Learning/UkraineAllEngTwT.csv'\n",
        "allEngDt = open(dir, 'w')\n",
        "allEngDt.close()\n",
        "header = True\n",
        "for file in os.scandir(\"/content/drive/MyDrive/Machine Learning/DataSets\"):\n",
        "    allEngDt = open(dir, 'a')\n",
        "    dt = pd.read_csv(file.path, sep = \",\", dtype = str, encoding = \"utf-8\", encoding_errors = \"ignore\", low_memory = True, index_col = 0)\n",
        "    dt = dt.loc[dt.loc[:,'language'].str.contains(\"en\")]\n",
        "    dt = dt[pd.to_numeric(dt.followers) > 5000000]\n",
        "    \n",
        "    with pd.option_context('display.max_rows', None, 'display.max_columns', None):\n",
        "        allEngDt.write(dt.to_csv(header = header))\n",
        "    #allEngDt.write('\\n')\n",
        "    header = False\n",
        "    allEngDt.close()"
      ],
      "metadata": {
        "id": "880WsrW2df0F"
      },
      "execution_count": null,
      "outputs": []
    },
    {
      "cell_type": "markdown",
      "source": [
        "Abaixo, os trechos responsáveis por ler o DataSet criado pelo trecho acima, atribuindo-o a variável *dt*, utilizando a estrutura de dado *Dataframe*, implementada pela biblioteca *Pandas*"
      ],
      "metadata": {
        "id": "kHqCRowRowXb"
      }
    },
    {
      "cell_type": "markdown",
      "source": [
        "######Endereço do Google Drive utilizado por Gustavo"
      ],
      "metadata": {
        "id": "dCy9Sv0R-X9c"
      }
    },
    {
      "cell_type": "code",
      "source": [
        "dir = '/content/drive/MyDrive/Machine Learning/UkraineAllEngTwT_Correct.csv'\n",
        "dt = pd.read_csv(dir, sep = \",\", low_memory = False, on_bad_lines='skip', usecols = range(0,18))\n"
      ],
      "metadata": {
        "id": "TMB3_AC3q58T"
      },
      "execution_count": 3,
      "outputs": []
    },
    {
      "cell_type": "markdown",
      "source": [
        "######Endereço do Google Drive utilizado por Nayara"
      ],
      "metadata": {
        "id": "kJAZuSOQ-kiK"
      }
    },
    {
      "cell_type": "code",
      "source": [
        "dir  = '/content/drive/MyDrive/listas e trabalhos em grupo (arq. compartilhado)/Machine Learning/UkraineAllEngTwT.csv'\n",
        "dt = pd.read_csv(dir, sep = \",\", low_memory = False, on_bad_lines='skip', usecols = range(0,18))"
      ],
      "metadata": {
        "id": "08QZ7hWAwwo9"
      },
      "execution_count": null,
      "outputs": []
    },
    {
      "cell_type": "markdown",
      "source": [
        "######Print de um usuário *i* qualquer selecionado do Dataset *dt*"
      ],
      "metadata": {
        "id": "lx2MWlly-zHX"
      }
    },
    {
      "cell_type": "code",
      "source": [
        "i = 5632\n",
        "dt.loc[i,:]\n",
        "#for j in dt.columns.values:\n",
        "    #print(f\"{j}: {dt.loc[i, j]}\")"
      ],
      "metadata": {
        "colab": {
          "base_uri": "https://localhost:8080/"
        },
        "id": "5krdwMtGryIL",
        "outputId": "88c9d631-b510-41a9-fbd4-94701f11fa23"
      },
      "execution_count": null,
      "outputs": [
        {
          "output_type": "execute_result",
          "data": {
            "text/plain": [
              "Unnamed: 0                                                   332446\n",
              "userid                                                   1115874631\n",
              "username                                               CGTNOfficial\n",
              "acctdesc          CGTN is an international media organization. I...\n",
              "location                                             Beijing, China\n",
              "following                                                        74\n",
              "followers                                                  13383261\n",
              "totaltweets                                                  216669\n",
              "usercreatedts                            2013-01-24 03:18:59.000000\n",
              "tweetid                                         1509300280248217600\n",
              "tweetcreatedts                           2022-03-30 22:43:22.000000\n",
              "retweetcount                                                      1\n",
              "text              #Ukraine and #Russia had hold the 5th round of...\n",
              "hashtags          [{'text': 'Ukraine', 'indices': [0, 8]}, {'tex...\n",
              "language                                                         en\n",
              "coordinates                                                     NaN\n",
              "favorite_count                                                    7\n",
              "extractedts                              2022-03-30 22:54:18.659938\n",
              "Name: 5632, dtype: object"
            ]
          },
          "metadata": {},
          "execution_count": 55
        }
      ]
    },
    {
      "cell_type": "markdown",
      "source": [
        "###Tokenização\n",
        "\n"
      ],
      "metadata": {
        "id": "LcR4PTK5_Vc6"
      }
    },
    {
      "cell_type": "markdown",
      "source": [
        "\n",
        "Após esta etapa, para cada usuário, separamos os tuítes e aplicamos uma tokenização junto a um filtro com as stop words (transformação dos textos em uma lista de tokens, junto a remoção de palavras baseadas nas stop words, uma lista de palavras para serem removidas antes de se aplicar operações de NLP), seguido de uma stemmização dos tokens (transformação desses tokens nos radicais das palavras, baseando-se em dicionários da língua nativa - lemmatizer)"
      ],
      "metadata": {
        "id": "Bz0GQJ8sbhZp"
      }
    },
    {
      "cell_type": "markdown",
      "source": [
        "Função de tokenização utilizando o *lemmatizer*, implementado pela biblioteca NLTK. O método também realiza as seguintes transformações:\n",
        "\n",
        "* Remoção de *'* no início de algumas palavras\n",
        "* Valores numéricos para *numericalValue*\n",
        "* Links para outros tuítes para *//t.co/*"
      ],
      "metadata": {
        "id": "GMLbll6T_buV"
      }
    },
    {
      "cell_type": "code",
      "source": [
        "def tokenize(text):\n",
        "    lt = WordNetLemmatizer()\n",
        "    pattern1 = re.compile(\"^//t.co/\")\n",
        "    tokens = word_tokenize(text)\n",
        "    stems = []\n",
        "    for item in tokens:\n",
        "        item = item.lstrip(\"'\")\n",
        "        if(any(char.isdigit() for char in item)):\n",
        "            stems.append('numericalValue')\n",
        "        elif (pattern1.match(item)):\n",
        "            stems.append('//t.co/')       \n",
        "        else:\n",
        "            stems.append(lt.lemmatize(item))\n",
        "    return stems"
      ],
      "metadata": {
        "id": "lOKxBhRoPmxf"
      },
      "execution_count": 4,
      "outputs": []
    },
    {
      "cell_type": "markdown",
      "source": [
        "Criação da lista de palavras que serão utilizadas como atributos, utilizando da tokenização, junto a lista de stopwords baixada através da biblioteca NTLK, e incrementada com símbolos diversos, que apareciam na lista de palavras"
      ],
      "metadata": {
        "id": "vsRUNIT_BQ_-"
      }
    },
    {
      "cell_type": "code",
      "source": [
        "sw = [*stopwords.words(), *[':', ',', '|', '.', '?', '(', ')', \"'s\", \"n't\", \"''\", '\"\"', '``', '!', '[', ']', ';', '...', '`', \"'\", '-', '--', '/', ' ', '\\0', '']]\n",
        "vectorizer = TfidfVectorizer(use_idf = True, tokenizer = tokenize, decode_error = 'ignore', strip_accents = 'ascii', stop_words = sw)\n",
        "wordList = []\n",
        "for user in dt.loc[:,\"username\"].unique():\n",
        "    twtList = []\n",
        "    for tweet in dt.loc[dt.loc[:, \"username\"] == user].text:\n",
        "        twtList.append(tweet)\n",
        "\n",
        "    tfIdf = vectorizer.fit_transform(twtList)\n",
        "    dtTest = pd.DataFrame(tfIdf[0].T.todense(), index=vectorizer.get_feature_names_out(), columns=[user])\n",
        "    dtTest = dtTest.sort_values(user, ascending=False)    \n",
        "    \n",
        "    wordList = [*wordList, *list(dtTest.index)]\n"
      ],
      "metadata": {
        "id": "f3bTHZsI8-rV",
        "colab": {
          "base_uri": "https://localhost:8080/"
        },
        "outputId": "ca65f3fe-8067-48bd-b5d8-0b758f86e412"
      },
      "execution_count": 5,
      "outputs": [
        {
          "output_type": "stream",
          "name": "stderr",
          "text": [
            "/usr/local/lib/python3.7/dist-packages/sklearn/feature_extraction/text.py:401: UserWarning: Your stop_words may be inconsistent with your preprocessing. Tokenizing the stop words generated tokens ['^', 'acaba', 'acesti', 'aiba', 'altal', 'altalaban', 'altms', 'amig', 'arasnda', 'arrol', 'artq', 'aslnda', 'astia', 'ate', 'aveti', 'avon', 'avra', 'avro', 'azert', 'aztan', 'azutan', 'bade', 'bae', 'bar', 'baz', 'bel', 'belul', 'bilr', 'birkac', 'birsey', 'bizlr', 'blk', 'bos', 'brzcas', 'brzkone', 'bunlarn', 'butun', 'bzi', 'bzn', 'caci', 'carei', 'caror', 'carui', 'cate', 'cati', 'catva', 'cem', 'cemer', 'cemerkoli', 'cemu', 'cemur', 'cemurkoli', 'ceprav', 'ceravno', 'cesa', 'cesar', 'cesarkoli', 'cetrta', 'cetrte', 'cetrtega', 'cetrtem', 'cetrtemu', 'cetrti', 'cetrtih', 'cetrtim', 'cetrtima', 'cetrtimi', 'cetrto', 'cetudi', 'cez', 'cezenj', 'ceznje', 'cigar', 'cigav', 'cigava', 'cigave', 'cigavega', 'cigavem', 'cigavemu', 'cigavi', 'cigavih', 'cigavim', 'cigavima', 'cigavimi', 'cigavo', 'cim', 'cimer', 'cimerkoli', 'citva', 'cok', 'could', 'cox', 'cunki', 'cunku', 'data', 'diesis', 'dk', 'dn', 'doe', 'dord', 'doua', 'dovolis', 'dqiq', 'drugacen', 'drugacna', 'drugacne', 'drugacnega', 'drugacnem', 'drugacnemu', 'drugacni', 'drugacnih', 'drugacnim', 'drugacnima', 'drugacnimi', 'drugacno', 'duz', 'dvainsestdeset', 'dvainsestdesetih', 'dvainsestdesetim', 'dvainsestdesetimi', 'dy', 'edn', 'eger', 'egesz', 'egyeb', 'eivat', 'eleg', 'elo', 'eloszor', 'elott', 'elso', 'eppen', 'eramos', 'estabamos', 'estais', 'estan', 'estao', 'estara', 'estaran', 'estaras', 'estare', 'estareis', 'estaria', 'estariais', 'estariamos', 'estarian', 'estarias', 'estavamos', 'esteis', 'esten', 'esti', 'estiveramos', 'estivessemos', 'estuvieramos', 'estuviesemos', 'etaient', 'etais', 'etait', 'etant', 'etante', 'etantes', 'etants', 'ete', 'etee', 'etees', 'etes', 'etiez', 'etions', 'etm', 'etmk', 'etta', 'eumes', 'eutes', 'ezert', 'f', 'faro', 'fele', 'fiti', 'foramos', 'forum', 'fossemos', 'fr', 'fran', 'fueramos', 'fuesemos', 'fume', 'fur', 'fuss', 'futes', 'gil', 'gor', 'gr', 'habeis', 'habia', 'habiais', 'habiamos', 'habian', 'habias', 'habra', 'habran', 'habras', 'habre', 'habreis', 'habria', 'habriais', 'habriamos', 'habrian', 'habrias', 'haneen', 'hanella', 'hanelle', 'hanelta', 'hanen', 'hanessa', 'hanesta', 'hanet', 'hanta', 'hao', 'haqqnda', 'hayais', 'hec', 'heidan', 'heidat', 'heilla', 'heilta', 'heissa', 'heista', 'heita', 'hic', 'hja', 'hm', 'hmin', 'hmis', 'hoce', 'hocejo', 'hocem', 'hocemo', 'hoces', 'hoceta', 'hocete', 'hoceva', 'houveramos', 'houverao', 'houveriamos', 'houvessemos', 'hr', 'hubieramos', 'hubiesemos', 'icin', 'igy', 'ild', 'ismet', 'istifad', 'jol', 'kakrsen', 'kakrsenkoli', 'kakrsna', 'kakrsnakoli', 'kakrsne', 'kakrsnega', 'kakrsnegakoli', 'kakrsnekoli', 'kakrsnem', 'kakrsnemkoli', 'kakrsnemu', 'kakrsnemukoli', 'kakrsni', 'kakrsnih', 'kakrsnihkoli', 'kakrsnikoli', 'kakrsnim', 'kakrsnima', 'kakrsnimakoli', 'kakrsnimi', 'kakrsnimikoli', 'kakrsnimkoli', 'kakrsno', 'kakrsnokoli', 'kaksen', 'kaksna', 'kaksne', 'kaksnega', 'kaksnem', 'kaksnemu', 'kaksni', 'kaksnih', 'kaksnim', 'kaksnima', 'kaksnimi', 'kaksno', 'keilla', 'keilta', 'keina', 'keissa', 'keista', 'keita', 'kenella', 'kenelta', 'kenena', 'kenessa', 'kenesta', 'keressunk', 'keresztul', 'keta', 'ketka', 'kivul', 'koliksen', 'koliksna', 'koliksne', 'koliksnega', 'koliksnem', 'koliksnemu', 'koliksni', 'koliksnih', 'koliksnim', 'koliksnima', 'koliksnimi', 'koliksno', 'konnen', 'konnte', 'kozott', 'kozul', 'langa', 'lbtt', 'le-taksen', 'le-taksna', 'le-taksne', 'le-taksnega', 'le-taksnem', 'le-taksnemu', 'le-taksni', 'le-taksnih', 'le-taksnim', 'le-taksnima', 'le-taksnimi', 'le-taksno', 'legalabb', 'linga', 'lli', 'magat', 'maine', 'marsicem', 'marsicemu', 'marsicesa', 'marsicim', 'marvec', 'masik', 'meidan', 'meidat', 'meilla', 'meilta', 'meissa', 'meista', 'meita', 'meme', 'mhz', 'mias', 'miert', 'might', 'miine', 'mika', 'milla', 'milta', 'minka', 'mios', 'mirsey', 'missa', 'mista', 'mita', 'mitka', 'mn', 'moci', 'moras', 'mus', 'must', 'nagon', 'nagot', 'nagra', 'naiden', 'naihin', 'naiksi', 'nailla', 'naille', 'nailta', 'naina', 'naissa', 'naista', 'naita', 'najbrz', 'namrec', 'nao', 'nar', 'nasa', 'nasega', 'nasem', 'nasemu', 'nasi', 'nasih', 'nasim', 'nasima', 'nasimi', 'nasl', 'naso', 'necem', 'necemu', 'necesa', 'necim', 'need', 'neha', 'nehany', 'nekaksen', 'nekaksna', 'nekaksne', 'nekaksnega', 'nekaksnem', 'nekaksnemu', 'nekaksni', 'nekaksnih', 'nekaksnim', 'nekaksnima', 'nekaksnimi', 'nekaksno', 'nelkul', 'nhayt', 'nic', 'nicemer', 'nicemur', 'nicesar', 'nicimer', 'nicin', 'nihce', 'niilla', 'niilta', 'niina', 'niissa', 'niista', 'niita', 'nikakrsen', 'nikakrsna', 'nikakrsne', 'nikakrsnega', 'nikakrsnem', 'nikakrsnemu', 'nikakrsni', 'nikakrsnih', 'nikakrsnim', 'nikakrsnima', 'nikakrsnimi', 'nikakrsno', 'niy', 'noastra', 'noce', 'nocejo', 'nocem', 'nocemo', 'noces', 'noceta', 'nocete', 'noceva', 'og', 'ogsa', 'ok', 'oket', 'oldugu', 'olmad', 'olmusdur', 'onlarn', 'oricand', 'oricat', 'oricind', 'oricit', 'oseminstirideset', 'oseminstiridesetih', 'oseminstiridesetim', 'oseminstiridesetimi', 'ossze', 'oz', 'ozu', 'pac', 'pana', 'perche', 'petinstirideset', 'petinstirideseta', 'petinstiridesete', 'petinstiridesetega', 'petinstiridesetem', 'petinstiridesetemu', 'petinstirideseti', 'petinstiridesetih', 'petinstiridesetim', 'petinstiridesetima', 'petinstiridesetimi', 'petinstirideseto', 'piu', 'putin', 'putina', 'qars', 'qdr', 'qrx', 'quantum', 'ra', 'reed', 'sadan', 'sadana', 'sadant', 'sadc', 'sajat', 'saniy', 'sann', 'sao', 'sara', 'saro', 'seais', 'sedeminsestdeset', 'sedeminsestdesetih', 'sedeminsestdesetim', 'sedeminsestdesetimi', 'seka', 'sele', 'seran', 'serao', 'sere', 'sereis', 'seriais', 'seriamos', 'serian', 'serias', 'serum', 'sest', 'sesta', 'sestdeset', 'sestdeseta', 'sestdesete', 'sestdesetega', 'sestdesetem', 'sestdesetemu', 'sestdeseti', 'sestdesetih', 'sestdesetim', 'sestdesetima', 'sestdesetimi', 'sestdeseto', 'seste', 'sestega', 'sestem', 'sestemu', 'sesti', 'sestih', 'sestim', 'sestima', 'sestimi', 'sestindvajset', 'sestindvajsetih', 'sestindvajsetim', 'sestindvajsetimi', 'sestintrideset', 'sestintridesetih', 'sestintridesetim', 'sestintridesetimi', 'sestnajst', 'sestnajsta', 'sestnajste', 'sestnajstega', 'sestnajstem', 'sestnajstemu', 'sestnajsti', 'sestnajstih', 'sestnajstim', 'sestnajstima', 'sestnajstimi', 'sestnajsto', 'sesto', 'seststo', 'seststotih', 'seststotim', 'seststotimi', 'sey', 'sha', 'shv', 'siina', 'siita', 'silla', 'silta', 'sita', 'sizlr', 'sjalv', 'sjl', 'skkiz', 'sksn', 'slind', 'smes', 'sn', 'snin', 'sprico', 'stara', 'staro', 'stiri', 'stirideset', 'stirideseta', 'stiridesete', 'stiridesetega', 'stiridesetem', 'stiridesetemu', 'stirideseti', 'stiridesetih', 'stiridesetim', 'stiridesetima', 'stiridesetimi', 'stirideseto', 'stirih', 'stiriindvajset', 'stiriindvajseta', 'stiriindvajsete', 'stiriindvajsetega', 'stiriindvajsetem', 'stiriindvajsetemu', 'stiriindvajseti', 'stiriindvajsetih', 'stiriindvajsetim', 'stiriindvajsetima', 'stiriindvajsetimi', 'stiriindvajseto', 'stirim', 'stirimi', 'stirinajst', 'stirinajsta', 'stirinajste', 'stirinajstega', 'stirinajstem', 'stirinajstemu', 'stirinajsti', 'stirinajstih', 'stirinajstim', 'stirinajstima', 'stirinajstimi', 'stirinajsto', 'stiristo', 'stiristotih', 'stiristotim', 'stiristotimi', 'stirje', 'sunteti', 'szamara', 'tahan', 'taksen', 'taksi', 'taksna', 'taksne', 'taksnega', 'taksnem', 'taksnemu', 'taksni', 'taksnih', 'taksnim', 'taksnima', 'taksnimi', 'taksno', 'talan', 'talla', 'talle', 'talta', 'tama', 'taman', 'tambem', 'tambien', 'tana', 'tassa', 'tasta', 'tata', 'tau', 'tehat', 'teidan', 'teidat', 'teilla', 'teilta', 'teissa', 'teista', 'teita', 'temvec', 'tendra', 'tendran', 'tendras', 'tendre', 'tendreis', 'tendria', 'tendriais', 'tendriamos', 'tendrian', 'tendrias', 'teneis', 'tengais', 'tenia', 'teniais', 'teniamos', 'tenian', 'tera', 'terao', 'teriamos', 'tie', 'tinhamos', 'tisoc', 'tisoca', 'tisoce', 'tisocega', 'tisocem', 'tisocemu', 'tisocer', 'tisocera', 'tisocere', 'tisocerega', 'tisocerem', 'tisoceremu', 'tisoceri', 'tisocerih', 'tisocerim', 'tisocerima', 'tisocerimi', 'tisocero', 'tisoci', 'tisocih', 'tisocim', 'tisocima', 'tisocimi', 'tisoco', 'tiveramos', 'tivessemos', 'tobb', 'toliksen', 'toliksna', 'toliksne', 'toliksnega', 'toliksnem', 'toliksnemu', 'toliksni', 'toliksnih', 'toliksnim', 'toliksnima', 'toliksnimi', 'toliksno', 'tovabb', 'tovabba', 'triinsestdeset', 'triinsestdesetih', 'triinsestdesetim', 'triinsestdesetimi', 'tssuf', 'tum', 'tuota', 'tuvieramos', 'tuviesemos', 'uber', 'uc', 'ucun', 'ugy', 'uj', 'ujabb', 'ujra', 'utana', 'utolso', 'valo', 'varfor', 'vasega', 'vasem', 'vasemu', 'vasi', 'vasih', 'vasim', 'vasima', 'vasimi', 'vaso', 'vnovic', 'voastra', 'voce', 'voua', 'vox', 'vprico', 'vre', 'vret', 'vrt', 'vsakrsen', 'vsakrsna', 'vsakrsne', 'vsakrsnega', 'vsakrsnem', 'vsakrsnemu', 'vsakrsni', 'vsakrsnih', 'vsakrsnim', 'vsakrsnima', 'vsakrsnimi', 'vsakrsno', 'vsec', 'vstric', 'vzdolz', 'wa', 'wahrend', 'would', 'wurde', 'wurden', 'xanm', 'yalnz', 'yaxs', 'yen', 'yetmis', 'yni', 'yuz', 'zaman', 'zelel', 'zelela', 'zelele', 'zeleli', 'zelelo', 'zelen', 'zelena', 'zelene', 'zeleni', 'zeleno', 'zeleti', 'zeli', 'zelijo', 'zelim', 'zelimo', 'zelis', 'zelita', 'zelite', 'zeliva', 'zmoci', 'zmores'] not in stop_words.\n",
            "  % sorted(inconsistent)\n"
          ]
        }
      ]
    },
    {
      "cell_type": "markdown",
      "source": [
        "###Redução de Dimensionalidade - Filtro de Palavras\n"
      ],
      "metadata": {
        "id": "0v5WfHDCDIdf"
      }
    },
    {
      "cell_type": "markdown",
      "source": [
        "\n",
        "\n",
        "Um dos problemas com abordagem utilizada posteriormente é o grande número de palavras diferentes, utilizadas pelos diversos usuários. Para resolver este problema foi realizado um filtro de palavras baseadas naquelas que aparecem para uma  porcentagem *p* de usuários. Com isso, só serão avaliadas as palavras que ocorrem em tuítes de uma porcentagem dos usuários. O dataset final, para *p = 15%* é composto por 114 linhas, cada uma representando um dos usuários selecionados, e 157 colunas, uma para cada palavra selecionada pelo filtro."
      ],
      "metadata": {
        "id": "Dl8emLLybqoM"
      }
    },
    {
      "cell_type": "code",
      "source": [
        "p = 0.15\n",
        "wL = np.array(wordList)\n",
        "wordF = np.round(np.unique(dt.userid).size * p)\n",
        "print(\"Percentage:\" + str(p))\n",
        "print(\"Word Frequency:\" + str(wordF))\n",
        "\n",
        "wLAux, c = np.unique(wL, return_counts = True)\n",
        "wLduplicates = wLAux[c > wordF]\n",
        "wLunique = wLAux[c <= wordF]\n",
        "\n",
        "print(\"Duplicates:\")\n",
        "print(wLduplicates.size)\n",
        "wLduplicates\n"
      ],
      "metadata": {
        "id": "9JuRk_k1fUaj",
        "colab": {
          "base_uri": "https://localhost:8080/"
        },
        "outputId": "20432b53-2aaf-4a16-936d-467375a3ce48"
      },
      "execution_count": 6,
      "outputs": [
        {
          "output_type": "stream",
          "name": "stdout",
          "text": [
            "Percentage:0.15\n",
            "Word Frequency:17.0\n",
            "Duplicates:\n",
            "157\n"
          ]
        },
        {
          "output_type": "execute_result",
          "data": {
            "text/plain": [
              "array(['#', '$', '%', '&', '//t.co/', '@', 'across', 'aid', 'amid', 'amp',\n",
              "       'another', 'around', 'attack', 'back', 'biden', 'border', 'bring',\n",
              "       'bucha', 'call', 'child', 'china', 'city', 'civilian', 'conflict',\n",
              "       'continue', 'continues', 'could', 'council', 'country', 'crisis',\n",
              "       'day', 'despite', 'east', 'effort', 'emergency', 'europe', 'even',\n",
              "       'every', 'family', 'far', 'fighting', 'first', 'food', 'force',\n",
              "       'foreign', 'full', 'future', 'gas', 'get', 'give', 'global', 'go',\n",
              "       'good', 'government', 'head', 'help', 'home', 'http', 'human',\n",
              "       'humanitarian', 'including', 'india', 'international', 'invasion',\n",
              "       'keep', 'kharkiv', 'killed', 'know', 'kyiv', 'last', 'latest',\n",
              "       'leader', 'leave', 'left', 'let', 'life', 'like', 'live', 'loss',\n",
              "       'made', 'make', 'many', 'march', 'mariupol', 'may', 'meet',\n",
              "       'meeting', 'military', 'million', 'minister', 'month', 'much',\n",
              "       'nato', 'need', 'never', 'new', 'news', 'next', 'nuclear',\n",
              "       'numericalValue', 'operation', 'part', 'peace', 'people', 'place',\n",
              "       'pm', 'poland', 'power', 'president', 'price', 'putin', 'read',\n",
              "       'refugee', 'region', 'report', 'response', 'right', 'russia',\n",
              "       'russian', 'said', 'say', 'security', 'see', 'service', 'since',\n",
              "       'soon', 'stand', 'start', 'state', 'statement', 'station', 'stop',\n",
              "       'story', 'student', 'supply', 'support', 'taking', 'talk', 'tell',\n",
              "       'time', 'today', 'two', 'uk', 'ukraine', 'ukrainian', 'united',\n",
              "       'update', 'video', 'wa', 'watch', 'way', 'week', 'woman', 'work',\n",
              "       'world', 'would', 'year'], dtype='<U32')"
            ]
          },
          "metadata": {},
          "execution_count": 6
        }
      ]
    },
    {
      "cell_type": "markdown",
      "source": [
        "###TF-IDF"
      ],
      "metadata": {
        "id": "eNHn0-71CKpk"
      }
    },
    {
      "cell_type": "markdown",
      "source": [
        "A partir dos tokens, foi calculado a métrica TF-IDF (term frequency–inverse document frequency) para cada conjunto de tuítes de cada usuário. A métrica TF-IDF se trata de uma medida estatística que busca ponderar as palavras mais frequentes e com maior significância dentro dos tuítes.\n",
        "\n",
        "O valor TF-IDF cresce proporcionalmente a frequência que as palavras aparecem dentro do texto, porém se baseia na ideia de que palavras com maiores e menores frequências são, na maioria dos casos, menos relevantes para a diferenciação do texto, pois tratam-se de conectivos e palavras muito comuns, ou palavras pouco utilizadas, respectivamente. A partir dos valores atribuídos aos tokens, obtemos uma lista das palavras mais relevantes conforme a métrica proposta, que será utilizado para análise de similaridade."
      ],
      "metadata": {
        "id": "EHoK3h4pbuzL"
      }
    },
    {
      "cell_type": "code",
      "source": [
        "tfIdfDF = {}\n",
        "for user in dt.loc[:,\"username\"].unique():\n",
        "    twtList = []\n",
        "    for tweet in dt.loc[dt.loc[:, \"username\"] == user].text:\n",
        "        twtList.append(tweet)\n",
        "\n",
        "    tdIdf = vectorizer.fit_transform(twtList)\n",
        "    tfIdfnames = vectorizer.get_feature_names_out()\n",
        "    dAux = {}\n",
        "    for x in wLduplicates:\n",
        "        if (len(np.where(tfIdfnames == x)[0]) != 0):\n",
        "            index = np.where(tfIdfnames == x)[0][0]\n",
        "            dAux[x] = tdIdf[0].T.todense()[index,0]\n",
        "    tfIdfDF[user] = dAux\n",
        "\n",
        "tfIdfDF = pd.DataFrame(tfIdfDF)\n",
        "tfIdfDF = tfIdfDF.transpose()"
      ],
      "metadata": {
        "id": "aoS7wrRzkHxL"
      },
      "execution_count": 7,
      "outputs": []
    },
    {
      "cell_type": "markdown",
      "source": [
        "Criação do DataSet final, utilizando do *Dataframe* resultado do algoritmo *TF-IDF* e substituindo os valores *N.A.* por *0.0*."
      ],
      "metadata": {
        "id": "PaU5NNm7FB3v"
      }
    },
    {
      "cell_type": "code",
      "source": [
        "#with pd.option_context('display.max_rows', None, 'display.max_columns', None):\n",
        "    #print(list(tfIdfDF.columns))\n",
        "\n",
        "DF = tfIdfDF.fillna(0).astype('double')\n",
        "DF"
      ],
      "metadata": {
        "id": "Jjb0jixFOi3J",
        "colab": {
          "base_uri": "https://localhost:8080/",
          "height": 424
        },
        "outputId": "c396bb05-206d-49dd-ecfe-521a18281459"
      },
      "execution_count": 8,
      "outputs": [
        {
          "output_type": "execute_result",
          "data": {
            "text/plain": [
              "                   #    $    %    &   //t.co/         @  across  aid  amid  \\\n",
              "IndiaToday  0.111044  0.0  0.0  0.0  0.000000  0.000000     0.0  0.0   0.0   \n",
              "htTweets    0.096142  0.0  0.0  0.0  0.000000  0.000000     0.0  0.0   0.0   \n",
              "the_hindu   0.119334  0.0  0.0  0.0  0.000000  0.322511     0.0  0.0   0.0   \n",
              "TimesNow    0.245121  0.0  0.0  0.0  0.000000  0.000000     0.0  0.0   0.0   \n",
              "ndtv        0.203021  0.0  0.0  0.0  0.000000  0.000000     0.0  0.0   0.0   \n",
              "...              ...  ...  ...  ...       ...       ...     ...  ...   ...   \n",
              "TEDTalks    0.208514  0.0  0.0  0.0  0.000000  0.208514     0.0  0.0   0.0   \n",
              "SkySports   0.277350  0.0  0.0  0.0  0.000000  0.000000     0.0  0.0   0.0   \n",
              "BBCNews     0.824163  0.0  0.0  0.0  0.000000  0.137361     0.0  0.0   0.0   \n",
              "paugasol    0.200000  0.0  0.2  0.0  0.000000  0.200000     0.0  0.0   0.0   \n",
              "BenStiller  0.426401  0.0  0.0  0.0  0.213201  0.000000     0.0  0.0   0.0   \n",
              "\n",
              "            amp  ...     video   wa     watch  way  week  woman  work  world  \\\n",
              "IndiaToday  0.0  ...  0.000000  0.0  0.000000  0.0   0.0    0.0   0.0    0.0   \n",
              "htTweets    0.0  ...  0.000000  0.0  0.000000  0.0   0.0    0.0   0.0    0.0   \n",
              "the_hindu   0.0  ...  0.000000  0.0  0.000000  0.0   0.0    0.0   0.0    0.0   \n",
              "TimesNow    0.0  ...  0.000000  0.0  0.000000  0.0   0.0    0.0   0.0    0.0   \n",
              "ndtv        0.0  ...  0.000000  0.0  0.000000  0.0   0.0    0.0   0.0    0.0   \n",
              "...         ...  ...       ...  ...       ...  ...   ...    ...   ...    ...   \n",
              "TEDTalks    0.0  ...  0.000000  0.0  0.208514  0.0   0.0    0.0   0.0    0.0   \n",
              "SkySports   0.0  ...  0.000000  0.0  0.000000  0.0   0.0    0.0   0.0    0.0   \n",
              "BBCNews     0.0  ...  0.137361  0.0  0.000000  0.0   0.0    0.0   0.0    0.0   \n",
              "paugasol    0.0  ...  0.000000  0.0  0.000000  0.0   0.0    0.0   0.0    0.0   \n",
              "BenStiller  0.0  ...  0.000000  0.0  0.000000  0.0   0.0    0.0   0.0    0.0   \n",
              "\n",
              "            would  year  \n",
              "IndiaToday    0.0   0.0  \n",
              "htTweets      0.0   0.0  \n",
              "the_hindu     0.0   0.0  \n",
              "TimesNow      0.0   0.0  \n",
              "ndtv          0.0   0.0  \n",
              "...           ...   ...  \n",
              "TEDTalks      0.0   0.0  \n",
              "SkySports     0.0   0.0  \n",
              "BBCNews       0.0   0.0  \n",
              "paugasol      0.0   0.0  \n",
              "BenStiller    0.0   0.0  \n",
              "\n",
              "[114 rows x 157 columns]"
            ],
            "text/html": [
              "\n",
              "  <div id=\"df-fcb07a33-80bd-4996-90b7-a0a759060f2c\">\n",
              "    <div class=\"colab-df-container\">\n",
              "      <div>\n",
              "<style scoped>\n",
              "    .dataframe tbody tr th:only-of-type {\n",
              "        vertical-align: middle;\n",
              "    }\n",
              "\n",
              "    .dataframe tbody tr th {\n",
              "        vertical-align: top;\n",
              "    }\n",
              "\n",
              "    .dataframe thead th {\n",
              "        text-align: right;\n",
              "    }\n",
              "</style>\n",
              "<table border=\"1\" class=\"dataframe\">\n",
              "  <thead>\n",
              "    <tr style=\"text-align: right;\">\n",
              "      <th></th>\n",
              "      <th>#</th>\n",
              "      <th>$</th>\n",
              "      <th>%</th>\n",
              "      <th>&amp;</th>\n",
              "      <th>//t.co/</th>\n",
              "      <th>@</th>\n",
              "      <th>across</th>\n",
              "      <th>aid</th>\n",
              "      <th>amid</th>\n",
              "      <th>amp</th>\n",
              "      <th>...</th>\n",
              "      <th>video</th>\n",
              "      <th>wa</th>\n",
              "      <th>watch</th>\n",
              "      <th>way</th>\n",
              "      <th>week</th>\n",
              "      <th>woman</th>\n",
              "      <th>work</th>\n",
              "      <th>world</th>\n",
              "      <th>would</th>\n",
              "      <th>year</th>\n",
              "    </tr>\n",
              "  </thead>\n",
              "  <tbody>\n",
              "    <tr>\n",
              "      <th>IndiaToday</th>\n",
              "      <td>0.111044</td>\n",
              "      <td>0.0</td>\n",
              "      <td>0.0</td>\n",
              "      <td>0.0</td>\n",
              "      <td>0.000000</td>\n",
              "      <td>0.000000</td>\n",
              "      <td>0.0</td>\n",
              "      <td>0.0</td>\n",
              "      <td>0.0</td>\n",
              "      <td>0.0</td>\n",
              "      <td>...</td>\n",
              "      <td>0.000000</td>\n",
              "      <td>0.0</td>\n",
              "      <td>0.000000</td>\n",
              "      <td>0.0</td>\n",
              "      <td>0.0</td>\n",
              "      <td>0.0</td>\n",
              "      <td>0.0</td>\n",
              "      <td>0.0</td>\n",
              "      <td>0.0</td>\n",
              "      <td>0.0</td>\n",
              "    </tr>\n",
              "    <tr>\n",
              "      <th>htTweets</th>\n",
              "      <td>0.096142</td>\n",
              "      <td>0.0</td>\n",
              "      <td>0.0</td>\n",
              "      <td>0.0</td>\n",
              "      <td>0.000000</td>\n",
              "      <td>0.000000</td>\n",
              "      <td>0.0</td>\n",
              "      <td>0.0</td>\n",
              "      <td>0.0</td>\n",
              "      <td>0.0</td>\n",
              "      <td>...</td>\n",
              "      <td>0.000000</td>\n",
              "      <td>0.0</td>\n",
              "      <td>0.000000</td>\n",
              "      <td>0.0</td>\n",
              "      <td>0.0</td>\n",
              "      <td>0.0</td>\n",
              "      <td>0.0</td>\n",
              "      <td>0.0</td>\n",
              "      <td>0.0</td>\n",
              "      <td>0.0</td>\n",
              "    </tr>\n",
              "    <tr>\n",
              "      <th>the_hindu</th>\n",
              "      <td>0.119334</td>\n",
              "      <td>0.0</td>\n",
              "      <td>0.0</td>\n",
              "      <td>0.0</td>\n",
              "      <td>0.000000</td>\n",
              "      <td>0.322511</td>\n",
              "      <td>0.0</td>\n",
              "      <td>0.0</td>\n",
              "      <td>0.0</td>\n",
              "      <td>0.0</td>\n",
              "      <td>...</td>\n",
              "      <td>0.000000</td>\n",
              "      <td>0.0</td>\n",
              "      <td>0.000000</td>\n",
              "      <td>0.0</td>\n",
              "      <td>0.0</td>\n",
              "      <td>0.0</td>\n",
              "      <td>0.0</td>\n",
              "      <td>0.0</td>\n",
              "      <td>0.0</td>\n",
              "      <td>0.0</td>\n",
              "    </tr>\n",
              "    <tr>\n",
              "      <th>TimesNow</th>\n",
              "      <td>0.245121</td>\n",
              "      <td>0.0</td>\n",
              "      <td>0.0</td>\n",
              "      <td>0.0</td>\n",
              "      <td>0.000000</td>\n",
              "      <td>0.000000</td>\n",
              "      <td>0.0</td>\n",
              "      <td>0.0</td>\n",
              "      <td>0.0</td>\n",
              "      <td>0.0</td>\n",
              "      <td>...</td>\n",
              "      <td>0.000000</td>\n",
              "      <td>0.0</td>\n",
              "      <td>0.000000</td>\n",
              "      <td>0.0</td>\n",
              "      <td>0.0</td>\n",
              "      <td>0.0</td>\n",
              "      <td>0.0</td>\n",
              "      <td>0.0</td>\n",
              "      <td>0.0</td>\n",
              "      <td>0.0</td>\n",
              "    </tr>\n",
              "    <tr>\n",
              "      <th>ndtv</th>\n",
              "      <td>0.203021</td>\n",
              "      <td>0.0</td>\n",
              "      <td>0.0</td>\n",
              "      <td>0.0</td>\n",
              "      <td>0.000000</td>\n",
              "      <td>0.000000</td>\n",
              "      <td>0.0</td>\n",
              "      <td>0.0</td>\n",
              "      <td>0.0</td>\n",
              "      <td>0.0</td>\n",
              "      <td>...</td>\n",
              "      <td>0.000000</td>\n",
              "      <td>0.0</td>\n",
              "      <td>0.000000</td>\n",
              "      <td>0.0</td>\n",
              "      <td>0.0</td>\n",
              "      <td>0.0</td>\n",
              "      <td>0.0</td>\n",
              "      <td>0.0</td>\n",
              "      <td>0.0</td>\n",
              "      <td>0.0</td>\n",
              "    </tr>\n",
              "    <tr>\n",
              "      <th>...</th>\n",
              "      <td>...</td>\n",
              "      <td>...</td>\n",
              "      <td>...</td>\n",
              "      <td>...</td>\n",
              "      <td>...</td>\n",
              "      <td>...</td>\n",
              "      <td>...</td>\n",
              "      <td>...</td>\n",
              "      <td>...</td>\n",
              "      <td>...</td>\n",
              "      <td>...</td>\n",
              "      <td>...</td>\n",
              "      <td>...</td>\n",
              "      <td>...</td>\n",
              "      <td>...</td>\n",
              "      <td>...</td>\n",
              "      <td>...</td>\n",
              "      <td>...</td>\n",
              "      <td>...</td>\n",
              "      <td>...</td>\n",
              "      <td>...</td>\n",
              "    </tr>\n",
              "    <tr>\n",
              "      <th>TEDTalks</th>\n",
              "      <td>0.208514</td>\n",
              "      <td>0.0</td>\n",
              "      <td>0.0</td>\n",
              "      <td>0.0</td>\n",
              "      <td>0.000000</td>\n",
              "      <td>0.208514</td>\n",
              "      <td>0.0</td>\n",
              "      <td>0.0</td>\n",
              "      <td>0.0</td>\n",
              "      <td>0.0</td>\n",
              "      <td>...</td>\n",
              "      <td>0.000000</td>\n",
              "      <td>0.0</td>\n",
              "      <td>0.208514</td>\n",
              "      <td>0.0</td>\n",
              "      <td>0.0</td>\n",
              "      <td>0.0</td>\n",
              "      <td>0.0</td>\n",
              "      <td>0.0</td>\n",
              "      <td>0.0</td>\n",
              "      <td>0.0</td>\n",
              "    </tr>\n",
              "    <tr>\n",
              "      <th>SkySports</th>\n",
              "      <td>0.277350</td>\n",
              "      <td>0.0</td>\n",
              "      <td>0.0</td>\n",
              "      <td>0.0</td>\n",
              "      <td>0.000000</td>\n",
              "      <td>0.000000</td>\n",
              "      <td>0.0</td>\n",
              "      <td>0.0</td>\n",
              "      <td>0.0</td>\n",
              "      <td>0.0</td>\n",
              "      <td>...</td>\n",
              "      <td>0.000000</td>\n",
              "      <td>0.0</td>\n",
              "      <td>0.000000</td>\n",
              "      <td>0.0</td>\n",
              "      <td>0.0</td>\n",
              "      <td>0.0</td>\n",
              "      <td>0.0</td>\n",
              "      <td>0.0</td>\n",
              "      <td>0.0</td>\n",
              "      <td>0.0</td>\n",
              "    </tr>\n",
              "    <tr>\n",
              "      <th>BBCNews</th>\n",
              "      <td>0.824163</td>\n",
              "      <td>0.0</td>\n",
              "      <td>0.0</td>\n",
              "      <td>0.0</td>\n",
              "      <td>0.000000</td>\n",
              "      <td>0.137361</td>\n",
              "      <td>0.0</td>\n",
              "      <td>0.0</td>\n",
              "      <td>0.0</td>\n",
              "      <td>0.0</td>\n",
              "      <td>...</td>\n",
              "      <td>0.137361</td>\n",
              "      <td>0.0</td>\n",
              "      <td>0.000000</td>\n",
              "      <td>0.0</td>\n",
              "      <td>0.0</td>\n",
              "      <td>0.0</td>\n",
              "      <td>0.0</td>\n",
              "      <td>0.0</td>\n",
              "      <td>0.0</td>\n",
              "      <td>0.0</td>\n",
              "    </tr>\n",
              "    <tr>\n",
              "      <th>paugasol</th>\n",
              "      <td>0.200000</td>\n",
              "      <td>0.0</td>\n",
              "      <td>0.2</td>\n",
              "      <td>0.0</td>\n",
              "      <td>0.000000</td>\n",
              "      <td>0.200000</td>\n",
              "      <td>0.0</td>\n",
              "      <td>0.0</td>\n",
              "      <td>0.0</td>\n",
              "      <td>0.0</td>\n",
              "      <td>...</td>\n",
              "      <td>0.000000</td>\n",
              "      <td>0.0</td>\n",
              "      <td>0.000000</td>\n",
              "      <td>0.0</td>\n",
              "      <td>0.0</td>\n",
              "      <td>0.0</td>\n",
              "      <td>0.0</td>\n",
              "      <td>0.0</td>\n",
              "      <td>0.0</td>\n",
              "      <td>0.0</td>\n",
              "    </tr>\n",
              "    <tr>\n",
              "      <th>BenStiller</th>\n",
              "      <td>0.426401</td>\n",
              "      <td>0.0</td>\n",
              "      <td>0.0</td>\n",
              "      <td>0.0</td>\n",
              "      <td>0.213201</td>\n",
              "      <td>0.000000</td>\n",
              "      <td>0.0</td>\n",
              "      <td>0.0</td>\n",
              "      <td>0.0</td>\n",
              "      <td>0.0</td>\n",
              "      <td>...</td>\n",
              "      <td>0.000000</td>\n",
              "      <td>0.0</td>\n",
              "      <td>0.000000</td>\n",
              "      <td>0.0</td>\n",
              "      <td>0.0</td>\n",
              "      <td>0.0</td>\n",
              "      <td>0.0</td>\n",
              "      <td>0.0</td>\n",
              "      <td>0.0</td>\n",
              "      <td>0.0</td>\n",
              "    </tr>\n",
              "  </tbody>\n",
              "</table>\n",
              "<p>114 rows × 157 columns</p>\n",
              "</div>\n",
              "      <button class=\"colab-df-convert\" onclick=\"convertToInteractive('df-fcb07a33-80bd-4996-90b7-a0a759060f2c')\"\n",
              "              title=\"Convert this dataframe to an interactive table.\"\n",
              "              style=\"display:none;\">\n",
              "        \n",
              "  <svg xmlns=\"http://www.w3.org/2000/svg\" height=\"24px\"viewBox=\"0 0 24 24\"\n",
              "       width=\"24px\">\n",
              "    <path d=\"M0 0h24v24H0V0z\" fill=\"none\"/>\n",
              "    <path d=\"M18.56 5.44l.94 2.06.94-2.06 2.06-.94-2.06-.94-.94-2.06-.94 2.06-2.06.94zm-11 1L8.5 8.5l.94-2.06 2.06-.94-2.06-.94L8.5 2.5l-.94 2.06-2.06.94zm10 10l.94 2.06.94-2.06 2.06-.94-2.06-.94-.94-2.06-.94 2.06-2.06.94z\"/><path d=\"M17.41 7.96l-1.37-1.37c-.4-.4-.92-.59-1.43-.59-.52 0-1.04.2-1.43.59L10.3 9.45l-7.72 7.72c-.78.78-.78 2.05 0 2.83L4 21.41c.39.39.9.59 1.41.59.51 0 1.02-.2 1.41-.59l7.78-7.78 2.81-2.81c.8-.78.8-2.07 0-2.86zM5.41 20L4 18.59l7.72-7.72 1.47 1.35L5.41 20z\"/>\n",
              "  </svg>\n",
              "      </button>\n",
              "      \n",
              "  <style>\n",
              "    .colab-df-container {\n",
              "      display:flex;\n",
              "      flex-wrap:wrap;\n",
              "      gap: 12px;\n",
              "    }\n",
              "\n",
              "    .colab-df-convert {\n",
              "      background-color: #E8F0FE;\n",
              "      border: none;\n",
              "      border-radius: 50%;\n",
              "      cursor: pointer;\n",
              "      display: none;\n",
              "      fill: #1967D2;\n",
              "      height: 32px;\n",
              "      padding: 0 0 0 0;\n",
              "      width: 32px;\n",
              "    }\n",
              "\n",
              "    .colab-df-convert:hover {\n",
              "      background-color: #E2EBFA;\n",
              "      box-shadow: 0px 1px 2px rgba(60, 64, 67, 0.3), 0px 1px 3px 1px rgba(60, 64, 67, 0.15);\n",
              "      fill: #174EA6;\n",
              "    }\n",
              "\n",
              "    [theme=dark] .colab-df-convert {\n",
              "      background-color: #3B4455;\n",
              "      fill: #D2E3FC;\n",
              "    }\n",
              "\n",
              "    [theme=dark] .colab-df-convert:hover {\n",
              "      background-color: #434B5C;\n",
              "      box-shadow: 0px 1px 3px 1px rgba(0, 0, 0, 0.15);\n",
              "      filter: drop-shadow(0px 1px 2px rgba(0, 0, 0, 0.3));\n",
              "      fill: #FFFFFF;\n",
              "    }\n",
              "  </style>\n",
              "\n",
              "      <script>\n",
              "        const buttonEl =\n",
              "          document.querySelector('#df-fcb07a33-80bd-4996-90b7-a0a759060f2c button.colab-df-convert');\n",
              "        buttonEl.style.display =\n",
              "          google.colab.kernel.accessAllowed ? 'block' : 'none';\n",
              "\n",
              "        async function convertToInteractive(key) {\n",
              "          const element = document.querySelector('#df-fcb07a33-80bd-4996-90b7-a0a759060f2c');\n",
              "          const dataTable =\n",
              "            await google.colab.kernel.invokeFunction('convertToInteractive',\n",
              "                                                     [key], {});\n",
              "          if (!dataTable) return;\n",
              "\n",
              "          const docLinkHtml = 'Like what you see? Visit the ' +\n",
              "            '<a target=\"_blank\" href=https://colab.research.google.com/notebooks/data_table.ipynb>data table notebook</a>'\n",
              "            + ' to learn more about interactive tables.';\n",
              "          element.innerHTML = '';\n",
              "          dataTable['output_type'] = 'display_data';\n",
              "          await google.colab.output.renderOutput(dataTable, element);\n",
              "          const docLink = document.createElement('div');\n",
              "          docLink.innerHTML = docLinkHtml;\n",
              "          element.appendChild(docLink);\n",
              "        }\n",
              "      </script>\n",
              "    </div>\n",
              "  </div>\n",
              "  "
            ]
          },
          "metadata": {},
          "execution_count": 8
        }
      ]
    },
    {
      "cell_type": "markdown",
      "source": [
        "##Mineração"
      ],
      "metadata": {
        "id": "hdfGvUjkFe9q"
      }
    },
    {
      "cell_type": "markdown",
      "source": [
        "Para a etapa da mineração, dois algoritmos foram aplicados. O primeiro algoritmo aplicado foi a clusterização hierárquica. Essa clusterização agrupa os objetos do Dataset utilizando uma métrica e um método diferente. Para este trabalho, foi utilizada a métrica do cosseno junto de dois métodos diferentes de clusterização, single e o complete. O segundo algoritmo foi o apriori em conjunto das regras de associação, que permitem encontrar a relação entre os atributos do Dataset, utilizando algumas métricas comparativas e de dependência.\n"
      ],
      "metadata": {
        "id": "VqD2wQmkTy66"
      }
    },
    {
      "cell_type": "markdown",
      "source": [
        "###Clusterização Hierárquica"
      ],
      "metadata": {
        "id": "R7BODBJiVS8M"
      }
    },
    {
      "cell_type": "markdown",
      "source": [
        " A métrica de cosseno é utilizada para medir a semelhança entre objetos de um mesmo conjunto de dados e é obtida através do cosseno do ângulo entre vetores no espaço (produto escalar entre os vetores dividido pelo produto de seus comprimentos). Dessa forma, para um caso geral, a similaridade de cosseno pertence ao intervalo [-1,1], onde vetores proporcionais tem uma similaridade de cosseno igual a 1, vetores ortogonais possuem similaridade 0, e vetores opostos possuem similaridade -1. Como os atributos possuem apenas valores positivos, este intervalo se limita a [0,1].\n"
      ],
      "metadata": {
        "id": "ICS2egUET0BL"
      }
    },
    {
      "cell_type": "markdown",
      "source": [
        "Já os métodos single e complete são qual abordagem será utilizada para calcular a distância a partir da métrica utilizada. O método single utiliza da menor distância entre dois clusters, enquanto o método complete utiliza da maior. O algoritmo de clusterização hierárquica inicia o agrupamento a partir de grupos de um único objeto, e expande esses grupos até a existência de um único cluster com todos os objetos do Dataset. O processo de expansão dos clusters se diferencia através da métrica e do método escolhido.\n"
      ],
      "metadata": {
        "id": "xoEa5Q5XT2S2"
      }
    },
    {
      "cell_type": "markdown",
      "source": [
        "Ou seja, para a análise dos usuários, cada objeto (usuário do Twitter) teve como atributos as diferentes palavras presentes nos tuítes realizados por aquele usuário, filtradas a partir de uma porcentagem arbitrária de usuários que utilizaram aquelas mesmas palavras, com sua TF-IDF calculada. Com isso, cada objeto teve sua métrica do cosseno calculada, e, com isso, foram clusterizados pelo algoritmo de clusterização hierárquica. A partir da clusterização, foram criados dois dendrogramas, um para cada método escolhido, que serão utilizados posteriormente, na etapa de pós-processamento, para analisar a relação entre os usuários."
      ],
      "metadata": {
        "id": "NsmLEzltVutO"
      }
    },
    {
      "cell_type": "markdown",
      "source": [
        "####Single\n",
        "Clusterização a partir da métrica do cosseno e do método *single* de cálculo de distância"
      ],
      "metadata": {
        "id": "p73PzBGYVGWG"
      }
    },
    {
      "cell_type": "code",
      "source": [
        "clustering = linkage(DF, method = 'single', metric = 'cosine')\n",
        "\n",
        "dn = dendrogram(clustering, orientation = 'left', labels = DF.index, leaf_font_size = 7)\n",
        "mpl.rcParams['figure.figsize'] = [10, 25]\n",
        "plt.show()"
      ],
      "metadata": {
        "id": "ZKGGMYT9ltG7",
        "colab": {
          "base_uri": "https://localhost:8080/",
          "height": 1000
        },
        "outputId": "74fa247c-fee9-4d58-f3c9-ac49e18e872d"
      },
      "execution_count": 15,
      "outputs": [
        {
          "output_type": "display_data",
          "data": {
            "text/plain": [
              "<Figure size 1296x1440 with 1 Axes>"
            ],
            "image/png": "[encoded data removed]"
          },
          "metadata": {
            "needs_background": "light"
          }
        }
      ]
    },
    {
      "cell_type": "markdown",
      "source": [
        "####Complete\n",
        "Clusterização a partir da métrica do cosseno e do método *single* de cálculo de distância"
      ],
      "metadata": {
        "id": "3F3Bx019VYBq"
      }
    },
    {
      "cell_type": "code",
      "source": [
        "clustering = linkage(DF, method = 'complete', metric = 'cosine')\n",
        "\n",
        "dn = dendrogram(clustering, orientation = 'left', labels = DF.index, leaf_font_size = 7)\n",
        "mpl.rcParams['figure.figsize'] = [18, 20]\n",
        "plt.show()"
      ],
      "metadata": {
        "colab": {
          "base_uri": "https://localhost:8080/",
          "height": 1000
        },
        "id": "66HnEJYRU66y",
        "outputId": "8b7dcb47-23b7-4422-97e1-dea7be5342ba"
      },
      "execution_count": 14,
      "outputs": [
        {
          "output_type": "display_data",
          "data": {
            "text/plain": [
              "<Figure size 1296x1440 with 1 Axes>"
            ],
            "image/png": "[encoded data removed]"
          },
          "metadata": {
            "needs_background": "light"
          }
        }
      ]
    },
    {
      "cell_type": "markdown",
      "source": [
        "###Regras de Associação com Apriori"
      ],
      "metadata": {
        "id": "vSsb2kXWVmE9"
      }
    },
    {
      "cell_type": "markdown",
      "source": [
        "Já o algoritmo apriori consiste na identificação dos diferentes conjuntos (sets) de atributos que frequentemente aparecem no Dataset. Com os sets de itens definidos, o algoritmo de regras de associação calcula diferentes métricas de associação para a descoberta de relações entre os sets de atributos adquiridos pelo apriori. Uma associação (relação) A → B é composta de um set antecedente (A) e um set consequente (B).\n"
      ],
      "metadata": {
        "id": "CxEfoNXjWBSi"
      }
    },
    {
      "cell_type": "markdown",
      "source": [
        "As métricas calculadas são:\n",
        "* *support* (*range: [0,1]*), que consiste na frequência/importância de uma relação num Dataset;\n",
        "* *confidence* (*range: [0,1]*), que consiste na probabilidade de um set consequente acontecer, dado um set antecedente. Caso seja 1, o consequente sempre acontece caso haja o antecedente;\n",
        "* *lift* (*range: [0,∞]*), que consiste na medida de quanto o antecedente e o consequente apareceriam juntos para caso eles fossem independentes. Caso seja 1, eles são independentes;\n",
        "* *leverage* (*range: [-1,1]*), que consiste no cálculo da diferença entre a frequência observada do antecedente e consequente aparecerem juntos e a frequência que seria esperada se ambos fossem independentes. Um valor de 0 indica independência;\n",
        "* e *conviction* (*range: [0, ∞]*), que consiste na métrica de dependência do consequente perante o antecedente. O valor perfeito de conviction será retratado como inf, enquanto a independência é retratada como 1."
      ],
      "metadata": {
        "id": "TlVALW6bWFYp"
      }
    },
    {
      "cell_type": "markdown",
      "source": [
        "Ou seja, para a análise dos atributos, foram calculadas as regras de associação das frequências TF-IDF das palavras filtradas de cada um dos conjuntos de tuítes dos usuários selecionados, a partir dos sets de palavras selecionadas pelo algoritmo apriori. Para  este trabalho, foram selecionados sets com support acima de 50% e regras de associação com confidence acima de 60%, resultando em 43 regras dadas como interessantes pelo algoritmo. Estas regras serão analisadas na etapa de pós-processamento."
      ],
      "metadata": {
        "id": "phAwGq__b-IA"
      }
    },
    {
      "cell_type": "code",
      "source": [
        "BoolDF = DF[:].astype(bool).copy()\n",
        "\n",
        "apri = apriori(BoolDF, min_support = 0.5, use_colnames = True)\n",
        "rules = association_rules(apri, metric = \"confidence\", min_threshold = 0.6)\n",
        "\n",
        "rules = rules[[\"antecedents\", \"consequents\", \"support\", \"confidence\", \"lift\", \"leverage\", \"conviction\"]]\n",
        "rules"
      ],
      "metadata": {
        "id": "SPyForrbd7Gb",
        "colab": {
          "base_uri": "https://localhost:8080/",
          "height": 655
        },
        "outputId": "21856267-2154-4a45-8c86-21c98d4aa000"
      },
      "execution_count": 11,
      "outputs": [
        {
          "output_type": "execute_result",
          "data": {
            "text/plain": [
              "                        antecedents                consequents   support  \\\n",
              "0                               (#)                     (http)  0.894737   \n",
              "1                            (http)                        (#)  0.894737   \n",
              "2                               (#)           (numericalValue)  0.868421   \n",
              "3                  (numericalValue)                        (#)  0.868421   \n",
              "4                         (ukraine)                        (#)  0.622807   \n",
              "5                               (#)                  (ukraine)  0.622807   \n",
              "6                            (http)           (numericalValue)  0.815789   \n",
              "7                  (numericalValue)                     (http)  0.815789   \n",
              "8                         (ukraine)                     (http)  0.561404   \n",
              "9                            (http)                  (ukraine)  0.561404   \n",
              "10                        (ukraine)           (numericalValue)  0.561404   \n",
              "11                 (numericalValue)                  (ukraine)  0.561404   \n",
              "12                        (#, http)           (numericalValue)  0.815789   \n",
              "13              (#, numericalValue)                     (http)  0.815789   \n",
              "14           (http, numericalValue)                        (#)  0.815789   \n",
              "15                              (#)     (http, numericalValue)  0.815789   \n",
              "16                           (http)        (#, numericalValue)  0.815789   \n",
              "17                 (numericalValue)                  (#, http)  0.815789   \n",
              "18                     (ukraine, #)                     (http)  0.561404   \n",
              "19                  (ukraine, http)                        (#)  0.561404   \n",
              "20                        (#, http)                  (ukraine)  0.561404   \n",
              "21                        (ukraine)                  (#, http)  0.561404   \n",
              "22                           (http)               (ukraine, #)  0.561404   \n",
              "23                     (ukraine, #)           (numericalValue)  0.561404   \n",
              "24        (ukraine, numericalValue)                        (#)  0.561404   \n",
              "25              (#, numericalValue)                  (ukraine)  0.561404   \n",
              "26                        (ukraine)        (#, numericalValue)  0.561404   \n",
              "27                 (numericalValue)               (ukraine, #)  0.561404   \n",
              "28                  (ukraine, http)           (numericalValue)  0.526316   \n",
              "29        (ukraine, numericalValue)                     (http)  0.526316   \n",
              "30           (http, numericalValue)                  (ukraine)  0.526316   \n",
              "31                        (ukraine)     (http, numericalValue)  0.526316   \n",
              "32                 (numericalValue)            (ukraine, http)  0.526316   \n",
              "33               (ukraine, #, http)           (numericalValue)  0.526316   \n",
              "34     (ukraine, #, numericalValue)                     (http)  0.526316   \n",
              "35  (ukraine, http, numericalValue)                        (#)  0.526316   \n",
              "36        (#, http, numericalValue)                  (ukraine)  0.526316   \n",
              "37                     (ukraine, #)     (http, numericalValue)  0.526316   \n",
              "38                  (ukraine, http)        (#, numericalValue)  0.526316   \n",
              "39        (ukraine, numericalValue)                  (#, http)  0.526316   \n",
              "40              (#, numericalValue)            (ukraine, http)  0.526316   \n",
              "41           (http, numericalValue)               (ukraine, #)  0.526316   \n",
              "42                        (ukraine)  (#, http, numericalValue)  0.526316   \n",
              "43                 (numericalValue)         (ukraine, #, http)  0.526316   \n",
              "\n",
              "    confidence      lift  leverage  conviction  \n",
              "0     0.894737  1.000000  0.000000    1.000000  \n",
              "1     1.000000  1.000000  0.000000         inf  \n",
              "2     0.868421  1.000000  0.000000    1.000000  \n",
              "3     1.000000  1.000000  0.000000         inf  \n",
              "4     1.000000  1.000000  0.000000         inf  \n",
              "5     0.622807  1.000000  0.000000    1.000000  \n",
              "6     0.911765  1.049911  0.038781    1.491228  \n",
              "7     0.939394  1.049911  0.038781    1.736842  \n",
              "8     0.901408  1.007457  0.004155    1.067669  \n",
              "9     0.627451  1.007457  0.004155    1.012465  \n",
              "10    0.901408  1.037985  0.020545    1.334586  \n",
              "11    0.646465  1.037985  0.020545    1.066917  \n",
              "12    0.911765  1.049911  0.038781    1.491228  \n",
              "13    0.939394  1.049911  0.038781    1.736842  \n",
              "14    1.000000  1.000000  0.000000         inf  \n",
              "15    0.815789  1.000000  0.000000    1.000000  \n",
              "16    0.911765  1.049911  0.038781    1.491228  \n",
              "17    0.939394  1.049911  0.038781    1.736842  \n",
              "18    0.901408  1.007457  0.004155    1.067669  \n",
              "19    1.000000  1.000000  0.000000         inf  \n",
              "20    0.627451  1.007457  0.004155    1.012465  \n",
              "21    0.901408  1.007457  0.004155    1.067669  \n",
              "22    0.627451  1.007457  0.004155    1.012465  \n",
              "23    0.901408  1.037985  0.020545    1.334586  \n",
              "24    1.000000  1.000000  0.000000         inf  \n",
              "25    0.646465  1.037985  0.020545    1.066917  \n",
              "26    0.901408  1.037985  0.020545    1.334586  \n",
              "27    0.646465  1.037985  0.020545    1.066917  \n",
              "28    0.937500  1.079545  0.038781    2.105263  \n",
              "29    0.937500  1.047794  0.024007    1.684211  \n",
              "30    0.645161  1.035893  0.018236    1.062998  \n",
              "31    0.845070  1.035893  0.018236    1.188995  \n",
              "32    0.606061  1.079545  0.038781    1.113360  \n",
              "33    0.937500  1.079545  0.038781    2.105263  \n",
              "34    0.937500  1.047794  0.024007    1.684211  \n",
              "35    1.000000  1.000000  0.000000         inf  \n",
              "36    0.645161  1.035893  0.018236    1.062998  \n",
              "37    0.845070  1.035893  0.018236    1.188995  \n",
              "38    0.937500  1.079545  0.038781    2.105263  \n",
              "39    0.937500  1.047794  0.024007    1.684211  \n",
              "40    0.606061  1.079545  0.038781    1.113360  \n",
              "41    0.645161  1.035893  0.018236    1.062998  \n",
              "42    0.845070  1.035893  0.018236    1.188995  \n",
              "43    0.606061  1.079545  0.038781    1.113360  "
            ],
            "text/html": [
              "\n",
              "  <div id=\"df-390e6fb6-72a9-4045-8ba5-8e58d99d2c19\">\n",
              "    <div class=\"colab-df-container\">\n",
              "      <div>\n",
              "<style scoped>\n",
              "    .dataframe tbody tr th:only-of-type {\n",
              "        vertical-align: middle;\n",
              "    }\n",
              "\n",
              "    .dataframe tbody tr th {\n",
              "        vertical-align: top;\n",
              "    }\n",
              "\n",
              "    .dataframe thead th {\n",
              "        text-align: right;\n",
              "    }\n",
              "</style>\n",
              "<table border=\"1\" class=\"dataframe\">\n",
              "  <thead>\n",
              "    <tr style=\"text-align: right;\">\n",
              "      <th></th>\n",
              "      <th>antecedents</th>\n",
              "      <th>consequents</th>\n",
              "      <th>support</th>\n",
              "      <th>confidence</th>\n",
              "      <th>lift</th>\n",
              "      <th>leverage</th>\n",
              "      <th>conviction</th>\n",
              "    </tr>\n",
              "  </thead>\n",
              "  <tbody>\n",
              "    <tr>\n",
              "      <th>0</th>\n",
              "      <td>(#)</td>\n",
              "      <td>(http)</td>\n",
              "      <td>0.894737</td>\n",
              "      <td>0.894737</td>\n",
              "      <td>1.000000</td>\n",
              "      <td>0.000000</td>\n",
              "      <td>1.000000</td>\n",
              "    </tr>\n",
              "    <tr>\n",
              "      <th>1</th>\n",
              "      <td>(http)</td>\n",
              "      <td>(#)</td>\n",
              "      <td>0.894737</td>\n",
              "      <td>1.000000</td>\n",
              "      <td>1.000000</td>\n",
              "      <td>0.000000</td>\n",
              "      <td>inf</td>\n",
              "    </tr>\n",
              "    <tr>\n",
              "      <th>2</th>\n",
              "      <td>(#)</td>\n",
              "      <td>(numericalValue)</td>\n",
              "      <td>0.868421</td>\n",
              "      <td>0.868421</td>\n",
              "      <td>1.000000</td>\n",
              "      <td>0.000000</td>\n",
              "      <td>1.000000</td>\n",
              "    </tr>\n",
              "    <tr>\n",
              "      <th>3</th>\n",
              "      <td>(numericalValue)</td>\n",
              "      <td>(#)</td>\n",
              "      <td>0.868421</td>\n",
              "      <td>1.000000</td>\n",
              "      <td>1.000000</td>\n",
              "      <td>0.000000</td>\n",
              "      <td>inf</td>\n",
              "    </tr>\n",
              "    <tr>\n",
              "      <th>4</th>\n",
              "      <td>(ukraine)</td>\n",
              "      <td>(#)</td>\n",
              "      <td>0.622807</td>\n",
              "      <td>1.000000</td>\n",
              "      <td>1.000000</td>\n",
              "      <td>0.000000</td>\n",
              "      <td>inf</td>\n",
              "    </tr>\n",
              "    <tr>\n",
              "      <th>5</th>\n",
              "      <td>(#)</td>\n",
              "      <td>(ukraine)</td>\n",
              "      <td>0.622807</td>\n",
              "      <td>0.622807</td>\n",
              "      <td>1.000000</td>\n",
              "      <td>0.000000</td>\n",
              "      <td>1.000000</td>\n",
              "    </tr>\n",
              "    <tr>\n",
              "      <th>6</th>\n",
              "      <td>(http)</td>\n",
              "      <td>(numericalValue)</td>\n",
              "      <td>0.815789</td>\n",
              "      <td>0.911765</td>\n",
              "      <td>1.049911</td>\n",
              "      <td>0.038781</td>\n",
              "      <td>1.491228</td>\n",
              "    </tr>\n",
              "    <tr>\n",
              "      <th>7</th>\n",
              "      <td>(numericalValue)</td>\n",
              "      <td>(http)</td>\n",
              "      <td>0.815789</td>\n",
              "      <td>0.939394</td>\n",
              "      <td>1.049911</td>\n",
              "      <td>0.038781</td>\n",
              "      <td>1.736842</td>\n",
              "    </tr>\n",
              "    <tr>\n",
              "      <th>8</th>\n",
              "      <td>(ukraine)</td>\n",
              "      <td>(http)</td>\n",
              "      <td>0.561404</td>\n",
              "      <td>0.901408</td>\n",
              "      <td>1.007457</td>\n",
              "      <td>0.004155</td>\n",
              "      <td>1.067669</td>\n",
              "    </tr>\n",
              "    <tr>\n",
              "      <th>9</th>\n",
              "      <td>(http)</td>\n",
              "      <td>(ukraine)</td>\n",
              "      <td>0.561404</td>\n",
              "      <td>0.627451</td>\n",
              "      <td>1.007457</td>\n",
              "      <td>0.004155</td>\n",
              "      <td>1.012465</td>\n",
              "    </tr>\n",
              "    <tr>\n",
              "      <th>10</th>\n",
              "      <td>(ukraine)</td>\n",
              "      <td>(numericalValue)</td>\n",
              "      <td>0.561404</td>\n",
              "      <td>0.901408</td>\n",
              "      <td>1.037985</td>\n",
              "      <td>0.020545</td>\n",
              "      <td>1.334586</td>\n",
              "    </tr>\n",
              "    <tr>\n",
              "      <th>11</th>\n",
              "      <td>(numericalValue)</td>\n",
              "      <td>(ukraine)</td>\n",
              "      <td>0.561404</td>\n",
              "      <td>0.646465</td>\n",
              "      <td>1.037985</td>\n",
              "      <td>0.020545</td>\n",
              "      <td>1.066917</td>\n",
              "    </tr>\n",
              "    <tr>\n",
              "      <th>12</th>\n",
              "      <td>(#, http)</td>\n",
              "      <td>(numericalValue)</td>\n",
              "      <td>0.815789</td>\n",
              "      <td>0.911765</td>\n",
              "      <td>1.049911</td>\n",
              "      <td>0.038781</td>\n",
              "      <td>1.491228</td>\n",
              "    </tr>\n",
              "    <tr>\n",
              "      <th>13</th>\n",
              "      <td>(#, numericalValue)</td>\n",
              "      <td>(http)</td>\n",
              "      <td>0.815789</td>\n",
              "      <td>0.939394</td>\n",
              "      <td>1.049911</td>\n",
              "      <td>0.038781</td>\n",
              "      <td>1.736842</td>\n",
              "    </tr>\n",
              "    <tr>\n",
              "      <th>14</th>\n",
              "      <td>(http, numericalValue)</td>\n",
              "      <td>(#)</td>\n",
              "      <td>0.815789</td>\n",
              "      <td>1.000000</td>\n",
              "      <td>1.000000</td>\n",
              "      <td>0.000000</td>\n",
              "      <td>inf</td>\n",
              "    </tr>\n",
              "    <tr>\n",
              "      <th>15</th>\n",
              "      <td>(#)</td>\n",
              "      <td>(http, numericalValue)</td>\n",
              "      <td>0.815789</td>\n",
              "      <td>0.815789</td>\n",
              "      <td>1.000000</td>\n",
              "      <td>0.000000</td>\n",
              "      <td>1.000000</td>\n",
              "    </tr>\n",
              "    <tr>\n",
              "      <th>16</th>\n",
              "      <td>(http)</td>\n",
              "      <td>(#, numericalValue)</td>\n",
              "      <td>0.815789</td>\n",
              "      <td>0.911765</td>\n",
              "      <td>1.049911</td>\n",
              "      <td>0.038781</td>\n",
              "      <td>1.491228</td>\n",
              "    </tr>\n",
              "    <tr>\n",
              "      <th>17</th>\n",
              "      <td>(numericalValue)</td>\n",
              "      <td>(#, http)</td>\n",
              "      <td>0.815789</td>\n",
              "      <td>0.939394</td>\n",
              "      <td>1.049911</td>\n",
              "      <td>0.038781</td>\n",
              "      <td>1.736842</td>\n",
              "    </tr>\n",
              "    <tr>\n",
              "      <th>18</th>\n",
              "      <td>(ukraine, #)</td>\n",
              "      <td>(http)</td>\n",
              "      <td>0.561404</td>\n",
              "      <td>0.901408</td>\n",
              "      <td>1.007457</td>\n",
              "      <td>0.004155</td>\n",
              "      <td>1.067669</td>\n",
              "    </tr>\n",
              "    <tr>\n",
              "      <th>19</th>\n",
              "      <td>(ukraine, http)</td>\n",
              "      <td>(#)</td>\n",
              "      <td>0.561404</td>\n",
              "      <td>1.000000</td>\n",
              "      <td>1.000000</td>\n",
              "      <td>0.000000</td>\n",
              "      <td>inf</td>\n",
              "    </tr>\n",
              "    <tr>\n",
              "      <th>20</th>\n",
              "      <td>(#, http)</td>\n",
              "      <td>(ukraine)</td>\n",
              "      <td>0.561404</td>\n",
              "      <td>0.627451</td>\n",
              "      <td>1.007457</td>\n",
              "      <td>0.004155</td>\n",
              "      <td>1.012465</td>\n",
              "    </tr>\n",
              "    <tr>\n",
              "      <th>21</th>\n",
              "      <td>(ukraine)</td>\n",
              "      <td>(#, http)</td>\n",
              "      <td>0.561404</td>\n",
              "      <td>0.901408</td>\n",
              "      <td>1.007457</td>\n",
              "      <td>0.004155</td>\n",
              "      <td>1.067669</td>\n",
              "    </tr>\n",
              "    <tr>\n",
              "      <th>22</th>\n",
              "      <td>(http)</td>\n",
              "      <td>(ukraine, #)</td>\n",
              "      <td>0.561404</td>\n",
              "      <td>0.627451</td>\n",
              "      <td>1.007457</td>\n",
              "      <td>0.004155</td>\n",
              "      <td>1.012465</td>\n",
              "    </tr>\n",
              "    <tr>\n",
              "      <th>23</th>\n",
              "      <td>(ukraine, #)</td>\n",
              "      <td>(numericalValue)</td>\n",
              "      <td>0.561404</td>\n",
              "      <td>0.901408</td>\n",
              "      <td>1.037985</td>\n",
              "      <td>0.020545</td>\n",
              "      <td>1.334586</td>\n",
              "    </tr>\n",
              "    <tr>\n",
              "      <th>24</th>\n",
              "      <td>(ukraine, numericalValue)</td>\n",
              "      <td>(#)</td>\n",
              "      <td>0.561404</td>\n",
              "      <td>1.000000</td>\n",
              "      <td>1.000000</td>\n",
              "      <td>0.000000</td>\n",
              "      <td>inf</td>\n",
              "    </tr>\n",
              "    <tr>\n",
              "      <th>25</th>\n",
              "      <td>(#, numericalValue)</td>\n",
              "      <td>(ukraine)</td>\n",
              "      <td>0.561404</td>\n",
              "      <td>0.646465</td>\n",
              "      <td>1.037985</td>\n",
              "      <td>0.020545</td>\n",
              "      <td>1.066917</td>\n",
              "    </tr>\n",
              "    <tr>\n",
              "      <th>26</th>\n",
              "      <td>(ukraine)</td>\n",
              "      <td>(#, numericalValue)</td>\n",
              "      <td>0.561404</td>\n",
              "      <td>0.901408</td>\n",
              "      <td>1.037985</td>\n",
              "      <td>0.020545</td>\n",
              "      <td>1.334586</td>\n",
              "    </tr>\n",
              "    <tr>\n",
              "      <th>27</th>\n",
              "      <td>(numericalValue)</td>\n",
              "      <td>(ukraine, #)</td>\n",
              "      <td>0.561404</td>\n",
              "      <td>0.646465</td>\n",
              "      <td>1.037985</td>\n",
              "      <td>0.020545</td>\n",
              "      <td>1.066917</td>\n",
              "    </tr>\n",
              "    <tr>\n",
              "      <th>28</th>\n",
              "      <td>(ukraine, http)</td>\n",
              "      <td>(numericalValue)</td>\n",
              "      <td>0.526316</td>\n",
              "      <td>0.937500</td>\n",
              "      <td>1.079545</td>\n",
              "      <td>0.038781</td>\n",
              "      <td>2.105263</td>\n",
              "    </tr>\n",
              "    <tr>\n",
              "      <th>29</th>\n",
              "      <td>(ukraine, numericalValue)</td>\n",
              "      <td>(http)</td>\n",
              "      <td>0.526316</td>\n",
              "      <td>0.937500</td>\n",
              "      <td>1.047794</td>\n",
              "      <td>0.024007</td>\n",
              "      <td>1.684211</td>\n",
              "    </tr>\n",
              "    <tr>\n",
              "      <th>30</th>\n",
              "      <td>(http, numericalValue)</td>\n",
              "      <td>(ukraine)</td>\n",
              "      <td>0.526316</td>\n",
              "      <td>0.645161</td>\n",
              "      <td>1.035893</td>\n",
              "      <td>0.018236</td>\n",
              "      <td>1.062998</td>\n",
              "    </tr>\n",
              "    <tr>\n",
              "      <th>31</th>\n",
              "      <td>(ukraine)</td>\n",
              "      <td>(http, numericalValue)</td>\n",
              "      <td>0.526316</td>\n",
              "      <td>0.845070</td>\n",
              "      <td>1.035893</td>\n",
              "      <td>0.018236</td>\n",
              "      <td>1.188995</td>\n",
              "    </tr>\n",
              "    <tr>\n",
              "      <th>32</th>\n",
              "      <td>(numericalValue)</td>\n",
              "      <td>(ukraine, http)</td>\n",
              "      <td>0.526316</td>\n",
              "      <td>0.606061</td>\n",
              "      <td>1.079545</td>\n",
              "      <td>0.038781</td>\n",
              "      <td>1.113360</td>\n",
              "    </tr>\n",
              "    <tr>\n",
              "      <th>33</th>\n",
              "      <td>(ukraine, #, http)</td>\n",
              "      <td>(numericalValue)</td>\n",
              "      <td>0.526316</td>\n",
              "      <td>0.937500</td>\n",
              "      <td>1.079545</td>\n",
              "      <td>0.038781</td>\n",
              "      <td>2.105263</td>\n",
              "    </tr>\n",
              "    <tr>\n",
              "      <th>34</th>\n",
              "      <td>(ukraine, #, numericalValue)</td>\n",
              "      <td>(http)</td>\n",
              "      <td>0.526316</td>\n",
              "      <td>0.937500</td>\n",
              "      <td>1.047794</td>\n",
              "      <td>0.024007</td>\n",
              "      <td>1.684211</td>\n",
              "    </tr>\n",
              "    <tr>\n",
              "      <th>35</th>\n",
              "      <td>(ukraine, http, numericalValue)</td>\n",
              "      <td>(#)</td>\n",
              "      <td>0.526316</td>\n",
              "      <td>1.000000</td>\n",
              "      <td>1.000000</td>\n",
              "      <td>0.000000</td>\n",
              "      <td>inf</td>\n",
              "    </tr>\n",
              "    <tr>\n",
              "      <th>36</th>\n",
              "      <td>(#, http, numericalValue)</td>\n",
              "      <td>(ukraine)</td>\n",
              "      <td>0.526316</td>\n",
              "      <td>0.645161</td>\n",
              "      <td>1.035893</td>\n",
              "      <td>0.018236</td>\n",
              "      <td>1.062998</td>\n",
              "    </tr>\n",
              "    <tr>\n",
              "      <th>37</th>\n",
              "      <td>(ukraine, #)</td>\n",
              "      <td>(http, numericalValue)</td>\n",
              "      <td>0.526316</td>\n",
              "      <td>0.845070</td>\n",
              "      <td>1.035893</td>\n",
              "      <td>0.018236</td>\n",
              "      <td>1.188995</td>\n",
              "    </tr>\n",
              "    <tr>\n",
              "      <th>38</th>\n",
              "      <td>(ukraine, http)</td>\n",
              "      <td>(#, numericalValue)</td>\n",
              "      <td>0.526316</td>\n",
              "      <td>0.937500</td>\n",
              "      <td>1.079545</td>\n",
              "      <td>0.038781</td>\n",
              "      <td>2.105263</td>\n",
              "    </tr>\n",
              "    <tr>\n",
              "      <th>39</th>\n",
              "      <td>(ukraine, numericalValue)</td>\n",
              "      <td>(#, http)</td>\n",
              "      <td>0.526316</td>\n",
              "      <td>0.937500</td>\n",
              "      <td>1.047794</td>\n",
              "      <td>0.024007</td>\n",
              "      <td>1.684211</td>\n",
              "    </tr>\n",
              "    <tr>\n",
              "      <th>40</th>\n",
              "      <td>(#, numericalValue)</td>\n",
              "      <td>(ukraine, http)</td>\n",
              "      <td>0.526316</td>\n",
              "      <td>0.606061</td>\n",
              "      <td>1.079545</td>\n",
              "      <td>0.038781</td>\n",
              "      <td>1.113360</td>\n",
              "    </tr>\n",
              "    <tr>\n",
              "      <th>41</th>\n",
              "      <td>(http, numericalValue)</td>\n",
              "      <td>(ukraine, #)</td>\n",
              "      <td>0.526316</td>\n",
              "      <td>0.645161</td>\n",
              "      <td>1.035893</td>\n",
              "      <td>0.018236</td>\n",
              "      <td>1.062998</td>\n",
              "    </tr>\n",
              "    <tr>\n",
              "      <th>42</th>\n",
              "      <td>(ukraine)</td>\n",
              "      <td>(#, http, numericalValue)</td>\n",
              "      <td>0.526316</td>\n",
              "      <td>0.845070</td>\n",
              "      <td>1.035893</td>\n",
              "      <td>0.018236</td>\n",
              "      <td>1.188995</td>\n",
              "    </tr>\n",
              "    <tr>\n",
              "      <th>43</th>\n",
              "      <td>(numericalValue)</td>\n",
              "      <td>(ukraine, #, http)</td>\n",
              "      <td>0.526316</td>\n",
              "      <td>0.606061</td>\n",
              "      <td>1.079545</td>\n",
              "      <td>0.038781</td>\n",
              "      <td>1.113360</td>\n",
              "    </tr>\n",
              "  </tbody>\n",
              "</table>\n",
              "</div>\n",
              "      <button class=\"colab-df-convert\" onclick=\"convertToInteractive('df-390e6fb6-72a9-4045-8ba5-8e58d99d2c19')\"\n",
              "              title=\"Convert this dataframe to an interactive table.\"\n",
              "              style=\"display:none;\">\n",
              "        \n",
              "  <svg xmlns=\"http://www.w3.org/2000/svg\" height=\"24px\"viewBox=\"0 0 24 24\"\n",
              "       width=\"24px\">\n",
              "    <path d=\"M0 0h24v24H0V0z\" fill=\"none\"/>\n",
              "    <path d=\"M18.56 5.44l.94 2.06.94-2.06 2.06-.94-2.06-.94-.94-2.06-.94 2.06-2.06.94zm-11 1L8.5 8.5l.94-2.06 2.06-.94-2.06-.94L8.5 2.5l-.94 2.06-2.06.94zm10 10l.94 2.06.94-2.06 2.06-.94-2.06-.94-.94-2.06-.94 2.06-2.06.94z\"/><path d=\"M17.41 7.96l-1.37-1.37c-.4-.4-.92-.59-1.43-.59-.52 0-1.04.2-1.43.59L10.3 9.45l-7.72 7.72c-.78.78-.78 2.05 0 2.83L4 21.41c.39.39.9.59 1.41.59.51 0 1.02-.2 1.41-.59l7.78-7.78 2.81-2.81c.8-.78.8-2.07 0-2.86zM5.41 20L4 18.59l7.72-7.72 1.47 1.35L5.41 20z\"/>\n",
              "  </svg>\n",
              "      </button>\n",
              "      \n",
              "  <style>\n",
              "    .colab-df-container {\n",
              "      display:flex;\n",
              "      flex-wrap:wrap;\n",
              "      gap: 12px;\n",
              "    }\n",
              "\n",
              "    .colab-df-convert {\n",
              "      background-color: #E8F0FE;\n",
              "      border: none;\n",
              "      border-radius: 50%;\n",
              "      cursor: pointer;\n",
              "      display: none;\n",
              "      fill: #1967D2;\n",
              "      height: 32px;\n",
              "      padding: 0 0 0 0;\n",
              "      width: 32px;\n",
              "    }\n",
              "\n",
              "    .colab-df-convert:hover {\n",
              "      background-color: #E2EBFA;\n",
              "      box-shadow: 0px 1px 2px rgba(60, 64, 67, 0.3), 0px 1px 3px 1px rgba(60, 64, 67, 0.15);\n",
              "      fill: #174EA6;\n",
              "    }\n",
              "\n",
              "    [theme=dark] .colab-df-convert {\n",
              "      background-color: #3B4455;\n",
              "      fill: #D2E3FC;\n",
              "    }\n",
              "\n",
              "    [theme=dark] .colab-df-convert:hover {\n",
              "      background-color: #434B5C;\n",
              "      box-shadow: 0px 1px 3px 1px rgba(0, 0, 0, 0.15);\n",
              "      filter: drop-shadow(0px 1px 2px rgba(0, 0, 0, 0.3));\n",
              "      fill: #FFFFFF;\n",
              "    }\n",
              "  </style>\n",
              "\n",
              "      <script>\n",
              "        const buttonEl =\n",
              "          document.querySelector('#df-390e6fb6-72a9-4045-8ba5-8e58d99d2c19 button.colab-df-convert');\n",
              "        buttonEl.style.display =\n",
              "          google.colab.kernel.accessAllowed ? 'block' : 'none';\n",
              "\n",
              "        async function convertToInteractive(key) {\n",
              "          const element = document.querySelector('#df-390e6fb6-72a9-4045-8ba5-8e58d99d2c19');\n",
              "          const dataTable =\n",
              "            await google.colab.kernel.invokeFunction('convertToInteractive',\n",
              "                                                     [key], {});\n",
              "          if (!dataTable) return;\n",
              "\n",
              "          const docLinkHtml = 'Like what you see? Visit the ' +\n",
              "            '<a target=\"_blank\" href=https://colab.research.google.com/notebooks/data_table.ipynb>data table notebook</a>'\n",
              "            + ' to learn more about interactive tables.';\n",
              "          element.innerHTML = '';\n",
              "          dataTable['output_type'] = 'display_data';\n",
              "          await google.colab.output.renderOutput(dataTable, element);\n",
              "          const docLink = document.createElement('div');\n",
              "          docLink.innerHTML = docLinkHtml;\n",
              "          element.appendChild(docLink);\n",
              "        }\n",
              "      </script>\n",
              "    </div>\n",
              "  </div>\n",
              "  "
            ]
          },
          "metadata": {},
          "execution_count": 11
        }
      ]
    },
    {
      "cell_type": "markdown",
      "source": [
        "##Pós-Processamento e Conclusão"
      ],
      "metadata": {
        "id": "PBs5pqwZHkWc"
      }
    },
    {
      "cell_type": "markdown",
      "source": [
        "### Pós-Processamento"
      ],
      "metadata": {
        "id": "mDb9iNcmqCFT"
      }
    },
    {
      "cell_type": "markdown",
      "source": [
        "A partir das abordagens de mineração selecionadas, é possível analisar os resultados obtidos desta etapa e, assim, chegar a conclusões sobre a relação entre os tuítes e dos usuários em inglês com mais de 5 000 000 seguidores.\n",
        "\n"
      ],
      "metadata": {
        "id": "S7bp6XV9opBD"
      }
    },
    {
      "cell_type": "markdown",
      "source": [
        "Analisando o primeiro dendograma, gerado a partir do método de distância single, é possível perceber que, durante a separação de um cluster em novos, é separado um único objeto, contra um grupo de objetos que ainda não foram separados. Essa característica deve-se pelo fato que os objetos clusterizados não possuem relação e, portanto, não há características comuns para agrupar a maioria dos objetos em grupos."
      ],
      "metadata": {
        "id": "ov7pyJkLpwbF"
      }
    },
    {
      "cell_type": "markdown",
      "source": [
        "Além disso, ao analisarmos o segundo dendrograma, é possível perceber o agrupamento de alguns poucos grupos interessantes. Exemplos seriam o agrupamento do Departamento de Defesa dos EUA (username: DeptofDefense) junto do Departamento do Estado dos EUA (username: StateDept); ou do agrupamento do WikiLeaks (username: wikileaks), organização sem fins lucrativos que tem  por objetivo vazar notícias e mídia confidencial para a internet, junto a uma das contas ditas ser relacionada com o grupo de ativistas sociais e hacktivistas Anonymous (username: YourAnonCentral). Porém, além dessas e algumas outras poucas relações, não há uma consistência dos grupos perante tipos de conta como de jornais e canais de notícia, como BBC ou CNN; atores e cantores, como Mark Ruffalo; e grandes sites de entretenimento ou cosméticos, como a marca de roupas Gucci. Todos esses grupos estão misturados dentro dos mesmos clusters gerados pelo algoritmo de clusterização hierárquica, fazendo com que não seja possível encontrar nenhum grupo de interesse dentro dos clusters gerados.\n"
      ],
      "metadata": {
        "id": "EB0pr5Hgp09v"
      }
    },
    {
      "cell_type": "markdown",
      "source": [
        "Por último, levando em conta as regras de associação, os valores de *lift* e *leverage* indicam uma independência dos sets encontrados pelo algoritmo apriori. Levando em conta que valores de *lift* iguais a 1 indicam independência, o maior valor de *lift* encontrado é igual a *lift* = 1.08, enquanto o menor valor é igual a *lift* = 1.00; já para *leverage*, valores iguais a 0 indicam independência, sendo que o maior valor de leverage encontra é igual a *leverage = 0.04*, enquanto o menor valor é igual a *leverage = 0.00*. Ambos valores indicam que as relações retratadas mais importantes pelo algoritmo acontecem com sets de palavras independentes entre si. Além disso, o conjunto de palavras que foram selecionadas pelo apriori e pertencem a diferentes sets de interesse é muito pequeno. Dos 157 atributos, apenas as palavras #, ukraine, http e numericalValue, aparecem nas relações.\n"
      ],
      "metadata": {
        "id": "dZJjrtJlp4-Q"
      }
    },
    {
      "cell_type": "markdown",
      "source": [
        "### Conclusão\n"
      ],
      "metadata": {
        "id": "CNmpO8t-p68f"
      }
    },
    {
      "cell_type": "markdown",
      "source": [
        "Com isso, é possível concluir que não há relação das palavras utilizadas com os usuários selecionados. As palavras são, em sua maior parte, independentes entre si e os textos dos diversos usuários não seguem um padrão de uso delas. Os pequenos clusters interessantes criados indicam que pode existir uma consistência de uso para grupos muito específicos de usuários, mas que isso não é uma regra. Algo importante a se notar é o valor de support alto para as palavras *#*, *http* e *ukraine*, indicando que os tuítes dos usuários com o maior número de seguidores consequentemente utilizam de hashtags, links e das palavras chaves para atrair leitores para seus tuítes, ferramentas de conhecimento comum para o aumento do alcance de uma conta no Twitter."
      ],
      "metadata": {
        "id": "UGQPrY81qGgg"
      }
    },
    {
      "cell_type": "markdown",
      "source": [
        "##Bibliografia"
      ],
      "metadata": {
        "id": "5xM4J_R6qK23"
      }
    },
    {
      "cell_type": "markdown",
      "source": [
        "https://www.kaggle.com/datasets/bwandowando/ukraine-russian-crisis-twitter-dataset-1-2-m-rows\n",
        "https://docs.scipy.org/doc/scipy/reference/generated/scipy.cluster.hierarchy.linkage.html \n",
        "https://docs.scipy.org/doc/scipy/reference/generated/scipy.cluster.hierarchy.dendrogram.html \n",
        "https://docs.scipy.org/doc/scipy/reference/generated/scipy.spatial.distance.pdist.html \n",
        "https://rasbt.github.io/mlxtend/user_guide/frequent_patterns/association_rules/ \n",
        "https://pandas.pydata.org/ \n",
        "https://numpy.org/ \n",
        "https://www.nltk.org/_modules/nltk/stem/wordnet.html \n",
        "https://scikit-learn.org/stable/modules/generated/sklearn.feature_extraction.text.TfidfVectorizer.html "
      ],
      "metadata": {
        "id": "tBYyukLYqMkv"
      }
    }
  ]
}